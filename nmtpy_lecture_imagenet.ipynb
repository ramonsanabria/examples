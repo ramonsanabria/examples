{
 "cells": [
  {
   "cell_type": "code",
   "execution_count": 0,
   "metadata": {
    "colab": {
     "autoexec": {
      "startup": false,
      "wait_interval": 0
     }
    },
    "colab_type": "code",
    "id": "gYhF8YekhYA0"
   },
   "outputs": [],
   "source": [
    "%matplotlib inline\n",
    "import seaborn as sns\n",
    "sns.set_context(\"notebook\", font_scale=1.5, rc={\"lines.linewidth\": 2})\n",
    "sns.set_style('dark')\n",
    "\n",
    "import numpy as np\n",
    "import tensorflow\n",
    "from random import shuffle\n",
    "import urllib\n",
    "from IPython.display import Image, display\n"
   ]
  },
  {
   "cell_type": "code",
   "execution_count": 0,
   "metadata": {
    "colab": {
     "autoexec": {
      "startup": false,
      "wait_interval": 0
     }
    },
    "colab_type": "code",
    "id": "xqH9CBhwBVES"
   },
   "outputs": [],
   "source": [
    "# Download all the list of test images\n",
    "!mkdir -p images\n",
    "!wget http://ozancaglayan.com/files/jsalt/test2016/index.txt\n",
    "!mv ./index.txt images/\n",
    "\n",
    "# Read the image names\n",
    "with open(\"./images/index.txt\") as input:\n",
    "  all_list = input.readlines()\n",
    "\n",
    "# Installing some dependencies\n",
    "!pip install resnet\n",
    "!wget https://raw.githubusercontent.com/fchollet/deep-learning-models/master/imagenet_utils.py\n",
    "\n",
    "import resnet\n",
    "resnet50 = resnet.ResNet50(weights='imagenet')\n",
    "\n",
    "from keras.preprocessing.image import load_img, img_to_array\n",
    "from imagenet_utils import preprocess_input, decode_predictions\n"
   ]
  },
  {
   "cell_type": "code",
   "execution_count": 0,
   "metadata": {
    "colab": {
     "autoexec": {
      "startup": false,
      "wait_interval": 0
     }
    },
    "colab_type": "code",
    "id": "vcARnAfkjJX3"
   },
   "outputs": [],
   "source": [
    "# Lets pick 1 randomly selected image\n",
    "shuffle(all_list)\n",
    "image_name=all_list[0].strip()\n",
    "url=\"http://ozancaglayan.com/files/jsalt/test2016/\"+image_name\n",
    "urllib.request.urlretrieve(url, \"./images/\"+image_name)\n",
    "\n",
    "complete_path = \"./images/\"+image_name\n",
    "    \n",
    "x = load_img(complete_path, target_size=(224, 224))\n",
    "x = img_to_array(x)\n",
    "x = np.expand_dims(x, axis=0)\n",
    "\n",
    "x = preprocess_input(x)\n",
    "\n",
    "preds = resnet50.predict(x)\n",
    "preds_name=decode_predictions(preds)\n",
    "\n",
    "display(Image(complete_path, height=256))\n",
    "\n",
    "for idx, top_element in enumerate(preds_name[0]):\n",
    "  print(\"Top \"+str(idx+1)+\": \"+str(top_element[1])+ \" (\"+str(top_element[2])+\")\")\n",
    "\n",
    "# Plot class probabilities\n",
    "sns.tsplot(preds[0], color='b')"
   ]
  }
 ],
 "metadata": {
  "colab": {
   "collapsed_sections": [],
   "default_view": {},
   "name": "imagenet.ipynb",
   "provenance": [
    {
     "file_id": "https://github.com/ramonsanabria/examples/blob/master/nmtpy_lecture_imagenet.ipynb",
     "timestamp": 1529473061753
    }
   ],
   "version": "0.3.2",
   "views": {}
  },
  "kernelspec": {
   "display_name": "Python 3",
   "language": "python",
   "name": "python3"
  },
  "language_info": {
   "codemirror_mode": {
    "name": "ipython",
    "version": 3
   },
   "file_extension": ".py",
   "mimetype": "text/x-python",
   "name": "python",
   "nbconvert_exporter": "python",
   "pygments_lexer": "ipython3",
   "version": "3.6.3"
  }
 },
 "nbformat": 4,
 "nbformat_minor": 1
}
